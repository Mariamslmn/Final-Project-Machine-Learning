{
 "cells": [
  {
   "cell_type": "code",
   "execution_count": 1,
   "metadata": {},
   "outputs": [],
   "source": [
    "import numpy as np\n",
    "import pandas as pd\n",
    "import seaborn as sns\n",
    " \n",
    "from sklearn.linear_model import LinearRegression\n",
    "from sklearn.metrics import mean_squared_error, r2_score\n",
    "from sklearn.model_selection import train_test_split, cross_val_score\n",
    "\n",
    "import matplotlib.pyplot as plt\n",
    "%matplotlib inline"
   ]
  },
  {
   "cell_type": "code",
   "execution_count": 2,
   "metadata": {},
   "outputs": [
    {
     "data": {
      "text/html": [
       "<div>\n",
       "<style scoped>\n",
       "    .dataframe tbody tr th:only-of-type {\n",
       "        vertical-align: middle;\n",
       "    }\n",
       "\n",
       "    .dataframe tbody tr th {\n",
       "        vertical-align: top;\n",
       "    }\n",
       "\n",
       "    .dataframe thead th {\n",
       "        text-align: right;\n",
       "    }\n",
       "</style>\n",
       "<table border=\"1\" class=\"dataframe\">\n",
       "  <thead>\n",
       "    <tr style=\"text-align: right;\">\n",
       "      <th></th>\n",
       "      <th>Country of Origin</th>\n",
       "      <th>Oct 2015</th>\n",
       "      <th>Nov 2015</th>\n",
       "      <th>Dec 2015</th>\n",
       "      <th>Jan 2016</th>\n",
       "      <th>Feb 2016</th>\n",
       "      <th>Mar 2016</th>\n",
       "      <th>Apr 2016</th>\n",
       "      <th>May 2016</th>\n",
       "      <th>Jun 2016</th>\n",
       "      <th>Jul 2016</th>\n",
       "      <th>Aug 2016</th>\n",
       "      <th>Sep 2016</th>\n",
       "    </tr>\n",
       "  </thead>\n",
       "  <tbody>\n",
       "    <tr>\n",
       "      <th>0</th>\n",
       "      <td>Angola</td>\n",
       "      <td>0</td>\n",
       "      <td>0</td>\n",
       "      <td>0</td>\n",
       "      <td>0</td>\n",
       "      <td>0</td>\n",
       "      <td>0</td>\n",
       "      <td>3</td>\n",
       "      <td>0</td>\n",
       "      <td>0</td>\n",
       "      <td>0</td>\n",
       "      <td>0</td>\n",
       "      <td>0</td>\n",
       "    </tr>\n",
       "    <tr>\n",
       "      <th>1</th>\n",
       "      <td>Burundi</td>\n",
       "      <td>59</td>\n",
       "      <td>5</td>\n",
       "      <td>25</td>\n",
       "      <td>49</td>\n",
       "      <td>56</td>\n",
       "      <td>68</td>\n",
       "      <td>48</td>\n",
       "      <td>62</td>\n",
       "      <td>85</td>\n",
       "      <td>62</td>\n",
       "      <td>116</td>\n",
       "      <td>59</td>\n",
       "    </tr>\n",
       "    <tr>\n",
       "      <th>2</th>\n",
       "      <td>Cameroon</td>\n",
       "      <td>0</td>\n",
       "      <td>0</td>\n",
       "      <td>0</td>\n",
       "      <td>0</td>\n",
       "      <td>0</td>\n",
       "      <td>0</td>\n",
       "      <td>1</td>\n",
       "      <td>2</td>\n",
       "      <td>6</td>\n",
       "      <td>0</td>\n",
       "      <td>2</td>\n",
       "      <td>3</td>\n",
       "    </tr>\n",
       "    <tr>\n",
       "      <th>3</th>\n",
       "      <td>Central African Republic</td>\n",
       "      <td>0</td>\n",
       "      <td>14</td>\n",
       "      <td>4</td>\n",
       "      <td>0</td>\n",
       "      <td>0</td>\n",
       "      <td>0</td>\n",
       "      <td>12</td>\n",
       "      <td>4</td>\n",
       "      <td>0</td>\n",
       "      <td>8</td>\n",
       "      <td>206</td>\n",
       "      <td>153</td>\n",
       "    </tr>\n",
       "    <tr>\n",
       "      <th>4</th>\n",
       "      <td>Chad</td>\n",
       "      <td>0</td>\n",
       "      <td>0</td>\n",
       "      <td>0</td>\n",
       "      <td>0</td>\n",
       "      <td>0</td>\n",
       "      <td>0</td>\n",
       "      <td>0</td>\n",
       "      <td>1</td>\n",
       "      <td>0</td>\n",
       "      <td>0</td>\n",
       "      <td>0</td>\n",
       "      <td>1</td>\n",
       "    </tr>\n",
       "  </tbody>\n",
       "</table>\n",
       "</div>"
      ],
      "text/plain": [
       "          Country of Origin  Oct 2015  Nov 2015  Dec 2015  Jan 2016  Feb 2016  \\\n",
       "0                    Angola         0         0         0         0         0   \n",
       "1                   Burundi        59         5        25        49        56   \n",
       "2                  Cameroon         0         0         0         0         0   \n",
       "3  Central African Republic         0        14         4         0         0   \n",
       "4                      Chad         0         0         0         0         0   \n",
       "\n",
       "   Mar 2016  Apr 2016  May 2016  Jun 2016  Jul 2016  Aug 2016  Sep 2016  \n",
       "0         0         3         0         0         0         0         0  \n",
       "1        68        48        62        85        62       116        59  \n",
       "2         0         1         2         6         0         2         3  \n",
       "3         0        12         4         0         8       206       153  \n",
       "4         0         0         1         0         0         0         1  "
      ]
     },
     "execution_count": 2,
     "metadata": {},
     "output_type": "execute_result"
    }
   ],
   "source": [
    "# Read the Refugee Data\n",
    "#this dataset represents number of refugees that arrived to USA from each country (Oct2015 - sept2016) \n",
    "refugee_df = pd.read_csv(\"./data/Arrival by country of origin for all FY2016 - Sheet1 (1).csv\")\n",
    "\n",
    "\n",
    "# Display the data table for preview\n",
    "refugee_df.head()"
   ]
  },
  {
   "cell_type": "code",
   "execution_count": 3,
   "metadata": {},
   "outputs": [
    {
     "data": {
      "text/plain": [
       "Country of Origin    object\n",
       "Oct 2015              int64\n",
       "Nov 2015              int64\n",
       "Dec 2015              int64\n",
       "Jan 2016              int64\n",
       "Feb 2016              int64\n",
       "Mar 2016              int64\n",
       "Apr 2016              int64\n",
       "May 2016              int64\n",
       "Jun 2016              int64\n",
       "Jul 2016              int64\n",
       "Aug 2016              int64\n",
       "Sep 2016              int64\n",
       "dtype: object"
      ]
     },
     "execution_count": 3,
     "metadata": {},
     "output_type": "execute_result"
    }
   ],
   "source": [
    "# Check the data types\n",
    "refugee_df = refugee_df.dropna()\n",
    "refugee_df.dtypes"
   ]
  },
  {
   "cell_type": "code",
   "execution_count": 4,
   "metadata": {},
   "outputs": [
    {
     "name": "stdout",
     "output_type": "stream",
     "text": [
      "country' :  ['Angola' 'Burundi' 'Cameroon' 'Central African Republic' 'Chad' 'Congo'\n",
      " 'Dem. Rep. Congo' 'Eritrea' 'Ethiopia' 'Gabon' 'Guinea' 'Ivory Coast'\n",
      " 'Kenya' 'Liberia' 'Mali' 'Nigeria' 'Republic of South Sudan' 'Rwanda'\n",
      " 'Senegal' 'Sierra Leone' 'Somalia' 'Sudan' 'Tanzania' 'Togo' 'Uganda'\n",
      " 'Zambia' 'Zimbabwe' 'Burma' 'Cambodia' 'China' 'Indonesia' 'Korea, North'\n",
      " 'Laos' 'Malaysia' 'Thailand' 'Tibet' 'Vietnam' 'Armenia' 'Azerbaijan'\n",
      " 'Belarus' 'Belgium' 'Croatia' 'Georgia' 'Kazakhstan' 'Kyrgyzstan'\n",
      " 'Moldova' 'Mongolia' 'Norway' 'Russia' 'Sweden' 'Tajikistan' 'Ukraine'\n",
      " 'Uzbekistan' 'Colombia' 'Cuba' 'El Salvador' 'Guatemala' 'Honduras'\n",
      " 'Jamaica' 'Afghanistan' 'Bangladesh' 'Bhutan' 'Egypt' 'India' 'Iran'\n",
      " 'Iraq' 'Jordan' 'Kuwait' 'Libya' 'Nepal' 'Pakistan' 'Palestine'\n",
      " 'Saudi Arabia' 'Sri Lanka (Ceylon)' 'Syria' 'Tunisia'\n",
      " 'United Arab Emirates' 'Yemen']\n"
     ]
    }
   ],
   "source": [
    "#Names of Countries Studied:\n",
    "print(\"country' : \",refugee_df['Country of Origin'].unique())"
   ]
  },
  {
   "cell_type": "code",
   "execution_count": 5,
   "metadata": {},
   "outputs": [
    {
     "data": {
      "text/html": [
       "<div>\n",
       "<style scoped>\n",
       "    .dataframe tbody tr th:only-of-type {\n",
       "        vertical-align: middle;\n",
       "    }\n",
       "\n",
       "    .dataframe tbody tr th {\n",
       "        vertical-align: top;\n",
       "    }\n",
       "\n",
       "    .dataframe thead th {\n",
       "        text-align: right;\n",
       "    }\n",
       "</style>\n",
       "<table border=\"1\" class=\"dataframe\">\n",
       "  <thead>\n",
       "    <tr style=\"text-align: right;\">\n",
       "      <th></th>\n",
       "      <th>Country of Origin</th>\n",
       "      <th>Oct 2015</th>\n",
       "      <th>Nov 2015</th>\n",
       "      <th>Dec 2015</th>\n",
       "      <th>Jan 2016</th>\n",
       "      <th>Feb 2016</th>\n",
       "      <th>Mar 2016</th>\n",
       "      <th>Apr 2016</th>\n",
       "      <th>May 2016</th>\n",
       "      <th>Jun 2016</th>\n",
       "      <th>Jul 2016</th>\n",
       "      <th>Aug 2016</th>\n",
       "      <th>Sep 2016</th>\n",
       "    </tr>\n",
       "  </thead>\n",
       "  <tbody>\n",
       "    <tr>\n",
       "      <th>0</th>\n",
       "      <td>1</td>\n",
       "      <td>0</td>\n",
       "      <td>0</td>\n",
       "      <td>0</td>\n",
       "      <td>0</td>\n",
       "      <td>0</td>\n",
       "      <td>0</td>\n",
       "      <td>3</td>\n",
       "      <td>0</td>\n",
       "      <td>0</td>\n",
       "      <td>0</td>\n",
       "      <td>0</td>\n",
       "      <td>0</td>\n",
       "    </tr>\n",
       "    <tr>\n",
       "      <th>1</th>\n",
       "      <td>9</td>\n",
       "      <td>59</td>\n",
       "      <td>5</td>\n",
       "      <td>25</td>\n",
       "      <td>49</td>\n",
       "      <td>56</td>\n",
       "      <td>68</td>\n",
       "      <td>48</td>\n",
       "      <td>62</td>\n",
       "      <td>85</td>\n",
       "      <td>62</td>\n",
       "      <td>116</td>\n",
       "      <td>59</td>\n",
       "    </tr>\n",
       "    <tr>\n",
       "      <th>2</th>\n",
       "      <td>11</td>\n",
       "      <td>0</td>\n",
       "      <td>0</td>\n",
       "      <td>0</td>\n",
       "      <td>0</td>\n",
       "      <td>0</td>\n",
       "      <td>0</td>\n",
       "      <td>1</td>\n",
       "      <td>2</td>\n",
       "      <td>6</td>\n",
       "      <td>0</td>\n",
       "      <td>2</td>\n",
       "      <td>3</td>\n",
       "    </tr>\n",
       "    <tr>\n",
       "      <th>3</th>\n",
       "      <td>12</td>\n",
       "      <td>0</td>\n",
       "      <td>14</td>\n",
       "      <td>4</td>\n",
       "      <td>0</td>\n",
       "      <td>0</td>\n",
       "      <td>0</td>\n",
       "      <td>12</td>\n",
       "      <td>4</td>\n",
       "      <td>0</td>\n",
       "      <td>8</td>\n",
       "      <td>206</td>\n",
       "      <td>153</td>\n",
       "    </tr>\n",
       "    <tr>\n",
       "      <th>4</th>\n",
       "      <td>13</td>\n",
       "      <td>0</td>\n",
       "      <td>0</td>\n",
       "      <td>0</td>\n",
       "      <td>0</td>\n",
       "      <td>0</td>\n",
       "      <td>0</td>\n",
       "      <td>0</td>\n",
       "      <td>1</td>\n",
       "      <td>0</td>\n",
       "      <td>0</td>\n",
       "      <td>0</td>\n",
       "      <td>1</td>\n",
       "    </tr>\n",
       "  </tbody>\n",
       "</table>\n",
       "</div>"
      ],
      "text/plain": [
       "   Country of Origin  Oct 2015  Nov 2015  Dec 2015  Jan 2016  Feb 2016  \\\n",
       "0                  1         0         0         0         0         0   \n",
       "1                  9        59         5        25        49        56   \n",
       "2                 11         0         0         0         0         0   \n",
       "3                 12         0        14         4         0         0   \n",
       "4                 13         0         0         0         0         0   \n",
       "\n",
       "   Mar 2016  Apr 2016  May 2016  Jun 2016  Jul 2016  Aug 2016  Sep 2016  \n",
       "0         0         3         0         0         0         0         0  \n",
       "1        68        48        62        85        62       116        59  \n",
       "2         0         1         2         6         0         2         3  \n",
       "3         0        12         4         0         8       206       153  \n",
       "4         0         0         1         0         0         0         1  "
      ]
     },
     "execution_count": 5,
     "metadata": {},
     "output_type": "execute_result"
    }
   ],
   "source": [
    "#import the necessary module\n",
    "from sklearn import preprocessing\n",
    "\n",
    "# create the Labelencoder object\n",
    "le = preprocessing.LabelEncoder()\n",
    "\n",
    "#convert the categorical columns into numeric\n",
    "refugee_df['Country of Origin'] = le.fit_transform(refugee_df['Country of Origin'])\n",
    "\n",
    "#display the initial records\n",
    "refugee_df.head()"
   ]
  },
  {
   "cell_type": "code",
   "execution_count": 6,
   "metadata": {},
   "outputs": [
    {
     "data": {
      "text/html": [
       "<div>\n",
       "<style scoped>\n",
       "    .dataframe tbody tr th:only-of-type {\n",
       "        vertical-align: middle;\n",
       "    }\n",
       "\n",
       "    .dataframe tbody tr th {\n",
       "        vertical-align: top;\n",
       "    }\n",
       "\n",
       "    .dataframe thead th {\n",
       "        text-align: right;\n",
       "    }\n",
       "</style>\n",
       "<table border=\"1\" class=\"dataframe\">\n",
       "  <thead>\n",
       "    <tr style=\"text-align: right;\">\n",
       "      <th></th>\n",
       "      <th>Country of Origin</th>\n",
       "      <th>Oct 2015</th>\n",
       "      <th>Nov 2015</th>\n",
       "      <th>Dec 2015</th>\n",
       "      <th>Jan 2016</th>\n",
       "      <th>Feb 2016</th>\n",
       "      <th>Mar 2016</th>\n",
       "      <th>Apr 2016</th>\n",
       "      <th>May 2016</th>\n",
       "      <th>Jun 2016</th>\n",
       "      <th>Jul 2016</th>\n",
       "      <th>Aug 2016</th>\n",
       "    </tr>\n",
       "  </thead>\n",
       "  <tbody>\n",
       "    <tr>\n",
       "      <th>0</th>\n",
       "      <td>1</td>\n",
       "      <td>0</td>\n",
       "      <td>0</td>\n",
       "      <td>0</td>\n",
       "      <td>0</td>\n",
       "      <td>0</td>\n",
       "      <td>0</td>\n",
       "      <td>3</td>\n",
       "      <td>0</td>\n",
       "      <td>0</td>\n",
       "      <td>0</td>\n",
       "      <td>0</td>\n",
       "    </tr>\n",
       "    <tr>\n",
       "      <th>1</th>\n",
       "      <td>9</td>\n",
       "      <td>59</td>\n",
       "      <td>5</td>\n",
       "      <td>25</td>\n",
       "      <td>49</td>\n",
       "      <td>56</td>\n",
       "      <td>68</td>\n",
       "      <td>48</td>\n",
       "      <td>62</td>\n",
       "      <td>85</td>\n",
       "      <td>62</td>\n",
       "      <td>116</td>\n",
       "    </tr>\n",
       "  </tbody>\n",
       "</table>\n",
       "</div>"
      ],
      "text/plain": [
       "   Country of Origin  Oct 2015  Nov 2015  Dec 2015  Jan 2016  Feb 2016  \\\n",
       "0                  1         0         0         0         0         0   \n",
       "1                  9        59         5        25        49        56   \n",
       "\n",
       "   Mar 2016  Apr 2016  May 2016  Jun 2016  Jul 2016  Aug 2016  \n",
       "0         0         3         0         0         0         0  \n",
       "1        68        48        62        85        62       116  "
      ]
     },
     "execution_count": 6,
     "metadata": {},
     "output_type": "execute_result"
    }
   ],
   "source": [
    "#select columns other than Sep 2016\n",
    "cols = [col for col in refugee_df.columns if col not in ['Sep 2016']]\n",
    "\n",
    "#Assign them to X\n",
    "X = refugee_df[cols]\n",
    "\n",
    "#assigning 'Sep 2016' column as target\n",
    "target = refugee_df['Sep 2016']\n",
    "\n",
    "X.head(n=2)"
   ]
  },
  {
   "cell_type": "code",
   "execution_count": 7,
   "metadata": {},
   "outputs": [
    {
     "data": {
      "text/plain": [
       "LinearRegression(copy_X=True, fit_intercept=True, n_jobs=1, normalize=False)"
      ]
     },
     "execution_count": 7,
     "metadata": {},
     "output_type": "execute_result"
    }
   ],
   "source": [
    "# Create a linear regression model\n",
    "lm = LinearRegression()\n",
    "lm"
   ]
  },
  {
   "cell_type": "code",
   "execution_count": 8,
   "metadata": {},
   "outputs": [],
   "source": [
    "# Split the dataset into training and testing datasets\n",
    "X_train, X_test, Y_train, Y_test = \\\n",
    "    train_test_split(X, target, test_size=0.33, random_state=42)"
   ]
  },
  {
   "cell_type": "code",
   "execution_count": 9,
   "metadata": {},
   "outputs": [
    {
     "data": {
      "text/plain": [
       "LinearRegression(copy_X=True, fit_intercept=True, n_jobs=1, normalize=False)"
      ]
     },
     "execution_count": 9,
     "metadata": {},
     "output_type": "execute_result"
    }
   ],
   "source": [
    "# Fit (train) the model with the training data\n",
    "lm.fit(X_train, Y_train)"
   ]
  },
  {
   "cell_type": "code",
   "execution_count": 10,
   "metadata": {},
   "outputs": [
    {
     "name": "stdout",
     "output_type": "stream",
     "text": [
      "Estimated intercept coefficient: 7.623527069995731\n"
     ]
    }
   ],
   "source": [
    "# Print the intercept coefficient\n",
    "print('Estimated intercept coefficient: {}'.format(lm.intercept_))"
   ]
  },
  {
   "cell_type": "code",
   "execution_count": 11,
   "metadata": {},
   "outputs": [
    {
     "name": "stdout",
     "output_type": "stream",
     "text": [
      "Number of coefficients: 12\n"
     ]
    }
   ],
   "source": [
    "# Number of coefficients: \n",
    "print('Number of coefficients: {}'.format(len(lm.coef_)))"
   ]
  },
  {
   "cell_type": "code",
   "execution_count": 12,
   "metadata": {},
   "outputs": [
    {
     "data": {
      "text/html": [
       "<div>\n",
       "<style scoped>\n",
       "    .dataframe tbody tr th:only-of-type {\n",
       "        vertical-align: middle;\n",
       "    }\n",
       "\n",
       "    .dataframe tbody tr th {\n",
       "        vertical-align: top;\n",
       "    }\n",
       "\n",
       "    .dataframe thead th {\n",
       "        text-align: right;\n",
       "    }\n",
       "</style>\n",
       "<table border=\"1\" class=\"dataframe\">\n",
       "  <thead>\n",
       "    <tr style=\"text-align: right;\">\n",
       "      <th></th>\n",
       "      <th>features</th>\n",
       "      <th>coefficients</th>\n",
       "    </tr>\n",
       "  </thead>\n",
       "  <tbody>\n",
       "    <tr>\n",
       "      <th>0</th>\n",
       "      <td>Country of Origin</td>\n",
       "      <td>-0.221957</td>\n",
       "    </tr>\n",
       "    <tr>\n",
       "      <th>1</th>\n",
       "      <td>Oct 2015</td>\n",
       "      <td>3.288955</td>\n",
       "    </tr>\n",
       "    <tr>\n",
       "      <th>2</th>\n",
       "      <td>Nov 2015</td>\n",
       "      <td>-2.163658</td>\n",
       "    </tr>\n",
       "    <tr>\n",
       "      <th>3</th>\n",
       "      <td>Dec 2015</td>\n",
       "      <td>-0.123105</td>\n",
       "    </tr>\n",
       "    <tr>\n",
       "      <th>4</th>\n",
       "      <td>Jan 2016</td>\n",
       "      <td>0.232654</td>\n",
       "    </tr>\n",
       "    <tr>\n",
       "      <th>5</th>\n",
       "      <td>Feb 2016</td>\n",
       "      <td>-3.803035</td>\n",
       "    </tr>\n",
       "    <tr>\n",
       "      <th>6</th>\n",
       "      <td>Mar 2016</td>\n",
       "      <td>1.601785</td>\n",
       "    </tr>\n",
       "    <tr>\n",
       "      <th>7</th>\n",
       "      <td>Apr 2016</td>\n",
       "      <td>0.628639</td>\n",
       "    </tr>\n",
       "    <tr>\n",
       "      <th>8</th>\n",
       "      <td>May 2016</td>\n",
       "      <td>-0.738077</td>\n",
       "    </tr>\n",
       "    <tr>\n",
       "      <th>9</th>\n",
       "      <td>Jun 2016</td>\n",
       "      <td>-1.954432</td>\n",
       "    </tr>\n",
       "    <tr>\n",
       "      <th>10</th>\n",
       "      <td>Jul 2016</td>\n",
       "      <td>1.690194</td>\n",
       "    </tr>\n",
       "    <tr>\n",
       "      <th>11</th>\n",
       "      <td>Aug 2016</td>\n",
       "      <td>0.923084</td>\n",
       "    </tr>\n",
       "  </tbody>\n",
       "</table>\n",
       "</div>"
      ],
      "text/plain": [
       "             features  coefficients\n",
       "0   Country of Origin     -0.221957\n",
       "1            Oct 2015      3.288955\n",
       "2            Nov 2015     -2.163658\n",
       "3            Dec 2015     -0.123105\n",
       "4            Jan 2016      0.232654\n",
       "5            Feb 2016     -3.803035\n",
       "6            Mar 2016      1.601785\n",
       "7            Apr 2016      0.628639\n",
       "8            May 2016     -0.738077\n",
       "9            Jun 2016     -1.954432\n",
       "10           Jul 2016      1.690194\n",
       "11           Aug 2016      0.923084"
      ]
     },
     "execution_count": 12,
     "metadata": {},
     "output_type": "execute_result"
    }
   ],
   "source": [
    "# Create a dataframe with the features and coefficients\n",
    "fc_df = pd.DataFrame(list(zip(X.columns, lm.coef_)), columns=['features', 'coefficients'])\n",
    "fc_df"
   ]
  },
  {
   "cell_type": "code",
   "execution_count": 13,
   "metadata": {},
   "outputs": [
    {
     "data": {
      "text/plain": [
       "array([ -2.8651633 ,   9.28748826, -10.01844558,   6.72659502,\n",
       "       -13.68728677])"
      ]
     },
     "execution_count": 13,
     "metadata": {},
     "output_type": "execute_result"
    }
   ],
   "source": [
    "# Use the test data to create predictions and show the first 5\n",
    "y_pred = lm.predict(X_test)\n",
    "y_pred[0:5]"
   ]
  },
  {
   "cell_type": "code",
   "execution_count": 14,
   "metadata": {},
   "outputs": [
    {
     "data": {
      "image/png": "[encoded data removed]",
      "text/plain": [
       "<Figure size 1152x576 with 1 Axes>"
      ]
     },
     "metadata": {},
     "output_type": "display_data"
    }
   ],
   "source": [
    "# Create a plot to compare actual number of refugees (Y_test) and the predicted number of refugees (pred_test)\n",
    "fig = plt.figure(figsize=(16,8))\n",
    "plt.scatter(Y_test, y_pred)\n",
    "plt.xlabel(\"Actual number of refugees\")\n",
    "plt.ylabel(\"Predicted number of refugees\")\n",
    "plt.title(\"Actual vs. Predicted number of refugees\")\n",
    "plt.show()"
   ]
  },
  {
   "cell_type": "code",
   "execution_count": 15,
   "metadata": {},
   "outputs": [
    {
     "name": "stdout",
     "output_type": "stream",
     "text": [
      "MSE Training Data: 2465.8541511030858\n"
     ]
    }
   ],
   "source": [
    "# Get the Mean Squared Error (MSE) for all predictions\n",
    "mse = mean_squared_error(Y_train, lm.predict(X_train))\n",
    "print(\"MSE Training Data: {}\".format(mse))"
   ]
  },
  {
   "cell_type": "code",
   "execution_count": 16,
   "metadata": {},
   "outputs": [
    {
     "name": "stdout",
     "output_type": "stream",
     "text": [
      "MSE Test Data: 1279.306312081451\n"
     ]
    }
   ],
   "source": [
    "# Get the MSE for the test data\n",
    "print(\"MSE Test Data: {}\".format(mean_squared_error(Y_test, lm.predict(X_test))))"
   ]
  },
  {
   "cell_type": "code",
   "execution_count": 17,
   "metadata": {},
   "outputs": [
    {
     "name": "stdout",
     "output_type": "stream",
     "text": [
      "MSE All Data Single Feature: 79292.71847029547\n"
     ]
    }
   ],
   "source": [
    "# Get the MSE for a single feature for comparison\n",
    "lm2 = LinearRegression()\n",
    "lm2.fit(X[['Nov 2015']], target)\n",
    "\n",
    "mse2 = mean_squared_error(target, lm2.predict(X[['Nov 2015']]))\n",
    "print(\"MSE All Data Single Feature: {}\".format(mse2))"
   ]
  },
  {
   "cell_type": "code",
   "execution_count": 18,
   "metadata": {},
   "outputs": [
    {
     "name": "stdout",
     "output_type": "stream",
     "text": [
      "Variance Score: 0.89\n"
     ]
    }
   ],
   "source": [
    "#Variance Score\n",
    "print(\"Variance Score: %.2f\" % r2_score(Y_test, y_pred))"
   ]
  },
  {
   "cell_type": "code",
   "execution_count": 19,
   "metadata": {},
   "outputs": [
    {
     "data": {
      "image/png": "[encoded data removed]",
      "text/plain": [
       "<Figure size 1152x576 with 1 Axes>"
      ]
     },
     "metadata": {},
     "output_type": "display_data"
    }
   ],
   "source": [
    "# Create a residual plot\n",
    "fig = plt.figure(figsize=(16,8))\n",
    "plt.scatter(lm.predict(X_train), lm.predict(X_train) - Y_train, c='b', s=40, alpha=0.5)\n",
    "plt.scatter(lm.predict(X_test), lm.predict(X_test) - Y_test, c='g', s=40)\n",
    "plt.hlines(y=0, xmin=0, xmax=50)\n",
    "plt.ylabel(\"Residuals\")\n",
    "plt.title(\"Residual Plot Using Training (Blue) and Test (Green) Data\")\n",
    "plt.show()\n"
   ]
  },
  {
   "cell_type": "code",
   "execution_count": 20,
   "metadata": {},
   "outputs": [
    {
     "name": "stdout",
     "output_type": "stream",
     "text": [
      "Training Data Score: 0.993378571123973\n",
      "Testing Data Score: 0.8876301495356083\n"
     ]
    }
   ],
   "source": [
    "print(f\"Training Data Score: {lm.score(X_train, Y_train)}\")\n",
    "print(f\"Testing Data Score: {lm.score(X_test, Y_test)}\")"
   ]
  },
  {
   "cell_type": "code",
   "execution_count": 21,
   "metadata": {},
   "outputs": [],
   "source": [
    "#logistic regression\n",
    "\n",
    "from sklearn.linear_model import LogisticRegression\n",
    "from sklearn.metrics import accuracy_score, classification_report\n",
    "X_train, X_test, Y_train, Y_test = train_test_split(X, target, test_size=0.33, random_state=42)\n"
   ]
  },
  {
   "cell_type": "code",
   "execution_count": 22,
   "metadata": {},
   "outputs": [
    {
     "data": {
      "text/plain": [
       "LogisticRegression(C=1.0, class_weight=None, dual=False, fit_intercept=True,\n",
       "          intercept_scaling=1, max_iter=100, multi_class='ovr', n_jobs=1,\n",
       "          penalty='l2', random_state=None, solver='liblinear', tol=0.0001,\n",
       "          verbose=0, warm_start=False)"
      ]
     },
     "execution_count": 22,
     "metadata": {},
     "output_type": "execute_result"
    }
   ],
   "source": [
    "lr = LogisticRegression()\n",
    "lr.fit(X_train, Y_train)"
   ]
  },
  {
   "cell_type": "code",
   "execution_count": 23,
   "metadata": {},
   "outputs": [],
   "source": [
    "y_pred = lr.predict(X_test)"
   ]
  },
  {
   "cell_type": "code",
   "execution_count": 24,
   "metadata": {},
   "outputs": [
    {
     "name": "stdout",
     "output_type": "stream",
     "text": [
      "Training Data Score: 0.9615384615384616\n",
      "Testing Data Score: 0.4230769230769231\n"
     ]
    }
   ],
   "source": [
    "print(f\"Training Data Score: {lr.score(X_train, Y_train)}\")\n",
    "print(f\"Testing Data Score: {lr.score(X_test, Y_test)}\")"
   ]
  },
  {
   "cell_type": "code",
   "execution_count": 25,
   "metadata": {},
   "outputs": [
    {
     "data": {
      "text/html": [
       "<div>\n",
       "<style scoped>\n",
       "    .dataframe tbody tr th:only-of-type {\n",
       "        vertical-align: middle;\n",
       "    }\n",
       "\n",
       "    .dataframe tbody tr th {\n",
       "        vertical-align: top;\n",
       "    }\n",
       "\n",
       "    .dataframe thead th {\n",
       "        text-align: right;\n",
       "    }\n",
       "</style>\n",
       "<table border=\"1\" class=\"dataframe\">\n",
       "  <thead>\n",
       "    <tr style=\"text-align: right;\">\n",
       "      <th></th>\n",
       "      <th>Prediction</th>\n",
       "      <th>Actual</th>\n",
       "    </tr>\n",
       "  </thead>\n",
       "  <tbody>\n",
       "    <tr>\n",
       "      <th>33</th>\n",
       "      <td>6</td>\n",
       "      <td>0</td>\n",
       "    </tr>\n",
       "    <tr>\n",
       "      <th>0</th>\n",
       "      <td>0</td>\n",
       "      <td>0</td>\n",
       "    </tr>\n",
       "    <tr>\n",
       "      <th>34</th>\n",
       "      <td>0</td>\n",
       "      <td>1</td>\n",
       "    </tr>\n",
       "    <tr>\n",
       "      <th>12</th>\n",
       "      <td>0</td>\n",
       "      <td>0</td>\n",
       "    </tr>\n",
       "    <tr>\n",
       "      <th>10</th>\n",
       "      <td>0</td>\n",
       "      <td>0</td>\n",
       "    </tr>\n",
       "  </tbody>\n",
       "</table>\n",
       "</div>"
      ],
      "text/plain": [
       "    Prediction  Actual\n",
       "33           6       0\n",
       "0            0       0\n",
       "34           0       1\n",
       "12           0       0\n",
       "10           0       0"
      ]
     },
     "execution_count": 25,
     "metadata": {},
     "output_type": "execute_result"
    }
   ],
   "source": [
    "\n",
    "predictions = lr.predict(X_test)\n",
    "predictions_df = pd.DataFrame({\"Prediction\": predictions, \"Actual\": Y_test})\n",
    "predictions_df.head()\n"
   ]
  },
  {
   "cell_type": "code",
   "execution_count": 26,
   "metadata": {},
   "outputs": [
    {
     "data": {
      "text/plain": [
       "array([  6,   0,  11,   1, 218, 285,  10,   3,  59], dtype=int64)"
      ]
     },
     "execution_count": 26,
     "metadata": {},
     "output_type": "execute_result"
    }
   ],
   "source": [
    "predictions_df['Prediction'].unique()"
   ]
  },
  {
   "cell_type": "code",
   "execution_count": 27,
   "metadata": {},
   "outputs": [
    {
     "data": {
      "text/plain": [
       "26"
      ]
     },
     "execution_count": 27,
     "metadata": {},
     "output_type": "execute_result"
    }
   ],
   "source": [
    "len(predictions_df)"
   ]
  },
  {
   "cell_type": "code",
   "execution_count": 28,
   "metadata": {},
   "outputs": [
    {
     "name": "stdout",
     "output_type": "stream",
     "text": [
      "Accuracy Score: 0.42\n"
     ]
    }
   ],
   "source": [
    "print(\"Accuracy Score: %.2f\" % accuracy_score(Y_test, y_pred))"
   ]
  },
  {
   "cell_type": "code",
   "execution_count": 29,
   "metadata": {},
   "outputs": [
    {
     "data": {
      "text/plain": [
       "array([[11,  1,  0,  0,  0,  1,  0,  0,  0,  0,  0,  0,  0,  0,  0,  0],\n",
       "       [ 4,  0,  0,  1,  0,  0,  0,  0,  0,  0,  0,  0,  0,  0,  0,  0],\n",
       "       [ 0,  0,  0,  0,  0,  0,  1,  1,  0,  0,  0,  0,  0,  0,  0,  0],\n",
       "       [ 0,  0,  0,  0,  0,  0,  0,  0,  0,  0,  0,  0,  0,  0,  0,  0],\n",
       "       [ 1,  0,  0,  0,  0,  0,  0,  0,  0,  0,  0,  0,  0,  0,  0,  0],\n",
       "       [ 0,  0,  0,  0,  0,  0,  0,  0,  0,  0,  0,  0,  0,  0,  0,  0],\n",
       "       [ 0,  0,  0,  0,  0,  0,  0,  0,  0,  0,  0,  0,  0,  0,  0,  0],\n",
       "       [ 0,  0,  0,  0,  0,  0,  0,  0,  0,  0,  0,  0,  0,  0,  0,  0],\n",
       "       [ 0,  0,  0,  0,  0,  0,  0,  0,  0,  0,  0,  0,  1,  0,  0,  0],\n",
       "       [ 0,  0,  0,  0,  0,  0,  0,  0,  0,  0,  0,  0,  0,  0,  1,  0],\n",
       "       [ 0,  0,  0,  0,  0,  0,  0,  1,  0,  0,  0,  0,  0,  0,  0,  0],\n",
       "       [ 0,  0,  0,  0,  0,  0,  0,  0,  0,  0,  0,  0,  0,  0,  1,  0],\n",
       "       [ 0,  0,  0,  0,  0,  0,  0,  0,  0,  0,  0,  0,  0,  0,  0,  0],\n",
       "       [ 0,  0,  0,  0,  0,  0,  0,  0,  0,  0,  0,  0,  0,  0,  0,  0],\n",
       "       [ 0,  0,  0,  0,  0,  0,  0,  0,  0,  0,  0,  0,  0,  0,  0,  0],\n",
       "       [ 0,  0,  0,  0,  0,  0,  0,  0,  0,  0,  0,  0,  0,  1,  0,  0]],\n",
       "      dtype=int64)"
      ]
     },
     "execution_count": 29,
     "metadata": {},
     "output_type": "execute_result"
    }
   ],
   "source": [
    "# import the metrics class\n",
    "from sklearn import metrics\n",
    "cnf_matrix = metrics.confusion_matrix(Y_test, y_pred)\n",
    "cnf_matrix"
   ]
  },
  {
   "cell_type": "code",
   "execution_count": 30,
   "metadata": {},
   "outputs": [
    {
     "data": {
      "text/plain": [
       "Text(0.5,257.44,'Predicted label')"
      ]
     },
     "execution_count": 30,
     "metadata": {},
     "output_type": "execute_result"
    },
    {
     "data": {
      "image/png": "[encoded data removed]",
      "text/plain": [
       "<Figure size 432x288 with 2 Axes>"
      ]
     },
     "metadata": {},
     "output_type": "display_data"
    }
   ],
   "source": [
    "class_names=[0,1] # name  of classes\n",
    "fig, ax = plt.subplots()\n",
    "tick_marks = np.arange(len(class_names))\n",
    "plt.xticks(tick_marks, class_names)\n",
    "plt.yticks(tick_marks, class_names)\n",
    "# create heatmap\n",
    "sns.heatmap(pd.DataFrame(cnf_matrix), annot=True, cmap=\"YlGnBu\" ,fmt='g')\n",
    "ax.xaxis.set_label_position(\"top\")\n",
    "plt.tight_layout()\n",
    "plt.title('Confusion matrix', y=1.1)\n",
    "plt.ylabel('Actual label')\n",
    "plt.xlabel('Predicted label')"
   ]
  },
  {
   "cell_type": "code",
   "execution_count": 31,
   "metadata": {},
   "outputs": [
    {
     "name": "stdout",
     "output_type": "stream",
     "text": [
      "Accuracy: 0.4230769230769231\n"
     ]
    }
   ],
   "source": [
    "print(\"Accuracy:\",metrics.accuracy_score(Y_test, y_pred))"
   ]
  },
  {
   "cell_type": "code",
   "execution_count": 32,
   "metadata": {},
   "outputs": [],
   "source": [
    "#Lasso Regression with scikit-learn\n",
    "#This section creates and measures a LASSO regression model using sklearn.\n",
    "\n",
    "from sklearn.linear_model import Lasso"
   ]
  },
  {
   "cell_type": "code",
   "execution_count": 33,
   "metadata": {},
   "outputs": [
    {
     "data": {
      "text/plain": [
       "Lasso(alpha=0.3, copy_X=True, fit_intercept=True, max_iter=1000,\n",
       "   normalize=True, positive=False, precompute=False, random_state=None,\n",
       "   selection='cyclic', tol=0.0001, warm_start=False)"
      ]
     },
     "execution_count": 33,
     "metadata": {},
     "output_type": "execute_result"
    }
   ],
   "source": [
    "# Create an instance of a Lasso Regression model\n",
    "model = Lasso(alpha=0.3, normalize=True)\n",
    "model.fit(X_train, Y_train)"
   ]
  },
  {
   "cell_type": "code",
   "execution_count": 34,
   "metadata": {},
   "outputs": [
    {
     "name": "stdout",
     "output_type": "stream",
     "text": [
      "Estimated intercept coefficient: 21.59961436706385\n"
     ]
    }
   ],
   "source": [
    "# Print the intercept coefficient\n",
    "print('Estimated intercept coefficient: {}'.format(model.intercept_))"
   ]
  },
  {
   "cell_type": "code",
   "execution_count": 35,
   "metadata": {},
   "outputs": [
    {
     "data": {
      "text/html": [
       "<div>\n",
       "<style scoped>\n",
       "    .dataframe tbody tr th:only-of-type {\n",
       "        vertical-align: middle;\n",
       "    }\n",
       "\n",
       "    .dataframe tbody tr th {\n",
       "        vertical-align: top;\n",
       "    }\n",
       "\n",
       "    .dataframe thead th {\n",
       "        text-align: right;\n",
       "    }\n",
       "</style>\n",
       "<table border=\"1\" class=\"dataframe\">\n",
       "  <thead>\n",
       "    <tr style=\"text-align: right;\">\n",
       "      <th></th>\n",
       "      <th>features</th>\n",
       "      <th>coefficients</th>\n",
       "    </tr>\n",
       "  </thead>\n",
       "  <tbody>\n",
       "    <tr>\n",
       "      <th>0</th>\n",
       "      <td>Country of Origin</td>\n",
       "      <td>-0.473905</td>\n",
       "    </tr>\n",
       "    <tr>\n",
       "      <th>1</th>\n",
       "      <td>Oct 2015</td>\n",
       "      <td>0.514802</td>\n",
       "    </tr>\n",
       "    <tr>\n",
       "      <th>2</th>\n",
       "      <td>Nov 2015</td>\n",
       "      <td>-0.000000</td>\n",
       "    </tr>\n",
       "    <tr>\n",
       "      <th>3</th>\n",
       "      <td>Dec 2015</td>\n",
       "      <td>0.000000</td>\n",
       "    </tr>\n",
       "    <tr>\n",
       "      <th>4</th>\n",
       "      <td>Jan 2016</td>\n",
       "      <td>0.271806</td>\n",
       "    </tr>\n",
       "  </tbody>\n",
       "</table>\n",
       "</div>"
      ],
      "text/plain": [
       "            features  coefficients\n",
       "0  Country of Origin     -0.473905\n",
       "1           Oct 2015      0.514802\n",
       "2           Nov 2015     -0.000000\n",
       "3           Dec 2015      0.000000\n",
       "4           Jan 2016      0.271806"
      ]
     },
     "execution_count": 35,
     "metadata": {},
     "output_type": "execute_result"
    }
   ],
   "source": [
    "# Create a dataframe with the features and coefficients\n",
    "fc_df = pd.DataFrame(list(zip(X.columns, model.coef_)), columns=['features', 'coefficients'])\n",
    "fc_df.head()"
   ]
  },
  {
   "cell_type": "code",
   "execution_count": 36,
   "metadata": {},
   "outputs": [
    {
     "data": {
      "text/plain": [
       "12"
      ]
     },
     "execution_count": 36,
     "metadata": {},
     "output_type": "execute_result"
    }
   ],
   "source": [
    "len(fc_df)"
   ]
  },
  {
   "cell_type": "code",
   "execution_count": 37,
   "metadata": {},
   "outputs": [],
   "source": [
    "y_pred = model.predict(X_test)"
   ]
  },
  {
   "cell_type": "code",
   "execution_count": 38,
   "metadata": {},
   "outputs": [
    {
     "data": {
      "image/png": "[encoded data removed]",
      "text/plain": [
       "<Figure size 432x288 with 1 Axes>"
      ]
     },
     "metadata": {},
     "output_type": "display_data"
    }
   ],
   "source": [
    "# Create a plot to compare actual nb of refugees (Y_test) and the predicted nb of refugees (pred_test)\n",
    "#fig = plt.figure(figsize=(20,10))\n",
    "plt.scatter(Y_test, y_pred)\n",
    "plt.xlabel(\"Actual nb of refugees\")\n",
    "plt.ylabel(\"Predicted nb of refugees\")\n",
    "plt.title(\"Actual vs. Predicted nb of refugees\")\n",
    "plt.show()"
   ]
  },
  {
   "cell_type": "code",
   "execution_count": 39,
   "metadata": {},
   "outputs": [
    {
     "name": "stdout",
     "output_type": "stream",
     "text": [
      "Training Data Score: 0.9889683222793142\n",
      "Testing Data Score: 0.8173524530239026\n"
     ]
    }
   ],
   "source": [
    "print(f\"Training Data Score: {model.score(X_train, Y_train)}\")\n",
    "print(f\"Testing Data Score: {model.score(X_test, Y_test)}\")"
   ]
  },
  {
   "cell_type": "code",
   "execution_count": 40,
   "metadata": {},
   "outputs": [
    {
     "name": "stdout",
     "output_type": "stream",
     "text": [
      "MSE Training Data: 4108.253491881746\n"
     ]
    }
   ],
   "source": [
    "# Get the Mean Squared Error (MSE) for all predictions\n",
    "mse = mean_squared_error(Y_train, model.predict(X_train))\n",
    "print(\"MSE Training Data: {}\".format(mse))"
   ]
  },
  {
   "cell_type": "code",
   "execution_count": 41,
   "metadata": {},
   "outputs": [
    {
     "name": "stdout",
     "output_type": "stream",
     "text": [
      "MSE Test Data: 2079.4026045870623\n"
     ]
    }
   ],
   "source": [
    "# Get the MSE for the test data\n",
    "print(\"MSE Test Data: {}\".format(mean_squared_error(Y_test, model.predict(X_test))))"
   ]
  },
  {
   "cell_type": "code",
   "execution_count": 42,
   "metadata": {},
   "outputs": [
    {
     "name": "stdout",
     "output_type": "stream",
     "text": [
      "Variance Score: 0.82\n"
     ]
    }
   ],
   "source": [
    "print(\"Variance Score: %.2f\" % r2_score(Y_test, y_pred))"
   ]
  },
  {
   "cell_type": "code",
   "execution_count": 43,
   "metadata": {},
   "outputs": [
    {
     "data": {
      "text/plain": [
       "0.5384615384615384"
      ]
     },
     "execution_count": 43,
     "metadata": {},
     "output_type": "execute_result"
    }
   ],
   "source": [
    "#Decision Tree\n",
    "from sklearn import tree\n",
    "\n",
    "clf = tree.DecisionTreeClassifier()\n",
    "clf = clf.fit(X_train, Y_train)\n",
    "clf.score(X_test, Y_test) "
   ]
  },
  {
   "cell_type": "code",
   "execution_count": 44,
   "metadata": {},
   "outputs": [],
   "source": [
    "#Naive Bayes\n",
    "from sklearn.naive_bayes import GaussianNB"
   ]
  },
  {
   "cell_type": "code",
   "execution_count": 45,
   "metadata": {},
   "outputs": [
    {
     "name": "stdout",
     "output_type": "stream",
     "text": [
      "Training Data Score: 0.9615384615384616\n",
      "Testing Data Score: 0.38461538461538464\n"
     ]
    }
   ],
   "source": [
    "naive_model = GaussianNB()\n",
    "\n",
    "naive_model.fit(X_train,Y_train)\n",
    "\n",
    "print(f\"Training Data Score: {naive_model.score(X_train, Y_train)}\")\n",
    "print(f\"Testing Data Score: {naive_model.score(X_test, Y_test)}\")"
   ]
  },
  {
   "cell_type": "code",
   "execution_count": 46,
   "metadata": {},
   "outputs": [
    {
     "name": "stdout",
     "output_type": "stream",
     "text": [
      "[ 6  0  0  0  0  1  0  0  0  1 10  0  0  4  0 12  1  0  0  6  0 10  0 10\n",
      "  0 10]\n"
     ]
    }
   ],
   "source": [
    "# Create predictions\n",
    "predictions = naive_model.predict(X_test)\n",
    "print(predictions)"
   ]
  },
  {
   "cell_type": "code",
   "execution_count": 47,
   "metadata": {},
   "outputs": [
    {
     "name": "stdout",
     "output_type": "stream",
     "text": [
      "Accuracy Score: 0.38\n"
     ]
    }
   ],
   "source": [
    "print(\"Accuracy Score: %.2f\" % accuracy_score(Y_test, predictions))"
   ]
  },
  {
   "cell_type": "code",
   "execution_count": 48,
   "metadata": {},
   "outputs": [
    {
     "data": {
      "text/plain": [
       "1.0"
      ]
     },
     "execution_count": 48,
     "metadata": {},
     "output_type": "execute_result"
    }
   ],
   "source": [
    "#Random Forest\n",
    "from sklearn.ensemble import RandomForestClassifier\n",
    "rf = RandomForestClassifier(n_estimators=200)\n",
    "rf = rf.fit(X_train, Y_train)\n",
    "rf.score(X_train, Y_train)"
   ]
  },
  {
   "cell_type": "code",
   "execution_count": 49,
   "metadata": {},
   "outputs": [
    {
     "data": {
      "text/plain": [
       "0.5"
      ]
     },
     "execution_count": 49,
     "metadata": {},
     "output_type": "execute_result"
    }
   ],
   "source": [
    "rf.score(X_test, Y_test)"
   ]
  },
  {
   "cell_type": "code",
   "execution_count": 50,
   "metadata": {},
   "outputs": [],
   "source": [
    "#Support Vector Machine\n",
    "\n",
    "from sklearn.svm import SVC \n",
    "# using X_train, X_test, Y_train, Y_test\n",
    "svm_space = SVC(kernel='rbf')\n",
    "svm_space.fit(X_train, Y_train)\n",
    "y_predict = svm_space.predict(X_test)\n"
   ]
  },
  {
   "cell_type": "code",
   "execution_count": 51,
   "metadata": {},
   "outputs": [
    {
     "name": "stdout",
     "output_type": "stream",
     "text": [
      "0.5\n"
     ]
    }
   ],
   "source": [
    "accuracy = svm_space.score(X_test, Y_test)\n",
    "print(accuracy)"
   ]
  },
  {
   "cell_type": "code",
   "execution_count": 52,
   "metadata": {},
   "outputs": [
    {
     "data": {
      "text/plain": [
       "0.9807692307692307"
      ]
     },
     "execution_count": 52,
     "metadata": {},
     "output_type": "execute_result"
    }
   ],
   "source": [
    "svm_space.score(X_train, Y_train)"
   ]
  },
  {
   "cell_type": "code",
   "execution_count": 53,
   "metadata": {},
   "outputs": [
    {
     "data": {
      "text/plain": [
       "52"
      ]
     },
     "execution_count": 53,
     "metadata": {},
     "output_type": "execute_result"
    }
   ],
   "source": [
    "#K Nearest Neighbor\n",
    "len(X_train)"
   ]
  },
  {
   "cell_type": "code",
   "execution_count": 54,
   "metadata": {},
   "outputs": [
    {
     "name": "stdout",
     "output_type": "stream",
     "text": [
      "0.4423076923076923\n"
     ]
    }
   ],
   "source": [
    "# KNN \n",
    "from sklearn.neighbors import KNeighborsClassifier\n",
    "\n",
    "\n",
    "knn = KNeighborsClassifier(n_neighbors = 3) \n",
    "knn.fit(X_train, Y_train)  \n",
    "Y_pred = knn.predict(X_test)  \n",
    "train_score = knn.score(X_train, Y_train)\n",
    "print(train_score)"
   ]
  },
  {
   "cell_type": "code",
   "execution_count": 55,
   "metadata": {},
   "outputs": [
    {
     "name": "stdout",
     "output_type": "stream",
     "text": [
      "0.5\n"
     ]
    }
   ],
   "source": [
    "test_score = knn.score(X_test, Y_test)\n",
    "print(test_score)"
   ]
  },
  {
   "cell_type": "code",
   "execution_count": 56,
   "metadata": {},
   "outputs": [
    {
     "name": "stdout",
     "output_type": "stream",
     "text": [
      "Training Data Score: 0.4827586206896552\n",
      "Testing Data Score: 0.55\n"
     ]
    },
    {
     "name": "stderr",
     "output_type": "stream",
     "text": [
      "C:\\Users\\mariam\\Anaconda3\\envs\\PythonData\\lib\\site-packages\\sklearn\\neural_network\\multilayer_perceptron.py:564: ConvergenceWarning: Stochastic Optimizer: Maximum iterations (200) reached and the optimization hasn't converged yet.\n",
      "  % self.max_iter, ConvergenceWarning)\n"
     ]
    }
   ],
   "source": [
    "#Neural Networks with Scikit-Learn\n",
    "#------------------------------------\n",
    "from sklearn.neural_network import MLPClassifier \n",
    "X_train, X_test, Y_train, Y_test = train_test_split(X, target, random_state=42)\n",
    "\n",
    "neural_network = MLPClassifier(hidden_layer_sizes=(64,16,8), solver=\"adam\", random_state=1)\n",
    "neural_network.fit(X_train, Y_train)\n",
    "\n",
    "print(f\"Training Data Score: {neural_network.score(X_train, Y_train)}\")\n",
    "print(f\"Testing Data Score: {neural_network.score(X_test, Y_test)}\")\n"
   ]
  },
  {
   "cell_type": "code",
   "execution_count": 57,
   "metadata": {},
   "outputs": [
    {
     "name": "stderr",
     "output_type": "stream",
     "text": [
      "C:\\Users\\mariam\\Anaconda3\\envs\\PythonData\\lib\\site-packages\\sklearn\\linear_model\\coordinate_descent.py:491: ConvergenceWarning: Objective did not converge. You might want to increase the number of iterations. Fitting data with very small alpha may cause precision problems.\n",
      "  ConvergenceWarning)\n"
     ]
    },
    {
     "data": {
      "text/plain": [
       "ElasticNet(alpha=1, copy_X=True, fit_intercept=True, l1_ratio=0.5,\n",
       "      max_iter=1000, normalize=False, positive=False, precompute=False,\n",
       "      random_state=None, selection='cyclic', tol=0.0001, warm_start=False)"
      ]
     },
     "execution_count": 57,
     "metadata": {},
     "output_type": "execute_result"
    }
   ],
   "source": [
    "#Elastic Net\n",
    "\n",
    "from sklearn.linear_model import ElasticNet\n",
    "model = ElasticNet(alpha=1, l1_ratio=0.5, normalize=False)\n",
    "model.fit(X_train, Y_train)"
   ]
  },
  {
   "cell_type": "code",
   "execution_count": 58,
   "metadata": {},
   "outputs": [
    {
     "name": "stdout",
     "output_type": "stream",
     "text": [
      "Training Data Score: 0.9928961721221073\n",
      "Testing Data Score: 0.7165258489470192\n"
     ]
    }
   ],
   "source": [
    "print(f\"Training Data Score: {model.score(X_train, Y_train)}\")\n",
    "print(f\"Testing Data Score: {model.score(X_test, Y_test)}\")\n"
   ]
  },
  {
   "cell_type": "code",
   "execution_count": 59,
   "metadata": {},
   "outputs": [],
   "source": [
    "#K-Means\n",
    "from sklearn.cluster import KMeans\n",
    "kmeans = KMeans(n_clusters=5)\n",
    "\n",
    "# Fit the model to the data\n",
    "kmeans.fit(X_train)\n",
    "\n",
    "# Use the data to predict the clusters\n",
    "# save the predictions as `predicted_clusters`\n",
    "predicted_clusters = kmeans.predict(X_train)\n"
   ]
  },
  {
   "cell_type": "code",
   "execution_count": 60,
   "metadata": {},
   "outputs": [
    {
     "name": "stdout",
     "output_type": "stream",
     "text": [
      "Training Data Score: -2186007.083333334\n",
      "Testing Data Score: -1474133.015625\n"
     ]
    }
   ],
   "source": [
    "print(f\"Training Data Score: {kmeans.score(X_train, Y_train)}\")\n",
    "print(f\"Testing Data Score: {kmeans.score(X_test, Y_test)}\")\n"
   ]
  },
  {
   "cell_type": "code",
   "execution_count": null,
   "metadata": {},
   "outputs": [],
   "source": []
  }
 ],
 "metadata": {
  "kernelspec": {
   "display_name": "Python 3",
   "language": "python",
   "name": "python3"
  },
  "language_info": {
   "codemirror_mode": {
    "name": "ipython",
    "version": 3
   },
   "file_extension": ".py",
   "mimetype": "text/x-python",
   "name": "python",
   "nbconvert_exporter": "python",
   "pygments_lexer": "ipython3",
   "version": "3.6.5"
  }
 },
 "nbformat": 4,
 "nbformat_minor": 2
}
